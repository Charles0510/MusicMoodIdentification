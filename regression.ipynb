{
 "cells": [
  {
   "cell_type": "code",
   "execution_count": 1,
   "metadata": {},
   "outputs": [],
   "source": [
    "import pandas as pd"
   ]
  },
  {
   "cell_type": "code",
   "execution_count": 2,
   "metadata": {},
   "outputs": [],
   "source": [
    "feature_df = pd.read_csv(\"features_sorted.csv\")\n",
    "annotation_df_1 = pd.read_csv(\"annotations/annotations averaged per song/song_level/static_annotations_averaged_songs_1_2000.csv\")\n",
    "annotation_df_2 = pd.read_csv(\"annotations/annotations averaged per song/song_level/static_annotations_averaged_songs_2000_2058.csv\")\n",
    "annotation_df = pd.concat([annotation_df_1, annotation_df_2])\n",
    "\n",
    "feature_df.columns = feature_df.columns.str.strip()\n",
    "annotation_df.columns = annotation_df.columns.str.strip()"
   ]
  },
  {
   "cell_type": "code",
   "execution_count": 3,
   "metadata": {},
   "outputs": [
    {
     "name": "stdout",
     "output_type": "stream",
     "text": [
      "Feature df shape:  (1802, 141)\n",
      "Annotation df 1 shape:  (1744, 5)\n",
      "Annotation df 2 shape:  (58, 13)\n",
      "Annotation df shape:  (1802, 13)\n"
     ]
    }
   ],
   "source": [
    "print(\"Feature df shape: \", feature_df.shape)\n",
    "print(\"Annotation df 1 shape: \", annotation_df_1.shape)\n",
    "print(\"Annotation df 2 shape: \", annotation_df_2.shape)\n",
    "print(\"Annotation df shape: \", annotation_df.shape)"
   ]
  },
  {
   "cell_type": "code",
   "execution_count": 4,
   "metadata": {},
   "outputs": [],
   "source": [
    "# split training and test data by 0.8/0.2\n",
    "from sklearn.model_selection import train_test_split\n",
    "X_train, X_test, y_train, y_test = train_test_split(feature_df, annotation_df, test_size=0.2, random_state=42)"
   ]
  },
  {
   "cell_type": "code",
   "execution_count": 5,
   "metadata": {},
   "outputs": [
    {
     "data": {
      "text/plain": [
       "(array([  5.,  13.,  21.,  30.,  72.,  78.,  94., 151., 135., 113., 181.,\n",
       "        128., 152., 104.,  80.,  42.,  30.,   9.,   2.,   1.]),\n",
       " array([1.6 , 1.94, 2.28, 2.62, 2.96, 3.3 , 3.64, 3.98, 4.32, 4.66, 5.  ,\n",
       "        5.34, 5.68, 6.02, 6.36, 6.7 , 7.04, 7.38, 7.72, 8.06, 8.4 ]),\n",
       " <BarContainer object of 20 artists>)"
      ]
     },
     "execution_count": 5,
     "metadata": {},
     "output_type": "execute_result"
    },
    {
     "data": {
      "image/png": "[encoded data removed]",
      "text/plain": [
       "<Figure size 640x480 with 1 Axes>"
      ]
     },
     "metadata": {},
     "output_type": "display_data"
    }
   ],
   "source": [
    "# plot distribution of y_train['valence_mean']\n",
    "import matplotlib.pyplot as plt\n",
    "\n",
    "plt.hist(y_train['valence_mean'], bins=20)"
   ]
  },
  {
   "cell_type": "markdown",
   "metadata": {},
   "source": [
    "## Gradient Boosting Regressor"
   ]
  },
  {
   "cell_type": "code",
   "execution_count": 6,
   "metadata": {},
   "outputs": [
    {
     "name": "stdout",
     "output_type": "stream",
     "text": [
      "For valence_mean:\n",
      "Best parameters:  {'learning_rate': 0.025, 'max_depth': 4, 'n_estimators': 250}\n",
      "Best score:  0.4671438352187147\n",
      "Test score:  0.4158980441312604\n"
     ]
    }
   ],
   "source": [
    "# grid search for hyperparameters\n",
    "from sklearn.ensemble import GradientBoostingRegressor\n",
    "from sklearn.model_selection import GridSearchCV\n",
    "\n",
    "param_grid = {\n",
    "    'n_estimators': [100, 150, 200, 250],\n",
    "    'learning_rate': [0.01, 0.025, 0.05, 0.1],\n",
    "    'max_depth': [2, 3, 4, 5]\n",
    "}\n",
    "\n",
    "grid_search = GridSearchCV(GradientBoostingRegressor(random_state=42), param_grid, cv=5, n_jobs=-1)\n",
    "grid_search.fit(X_train.drop(columns=['song_id']), y_train['valence_mean'])\n",
    "\n",
    "print(\"For valence_mean:\")\n",
    "print(\"Best parameters: \", grid_search.best_params_)\n",
    "print(\"Best score: \", grid_search.best_score_)\n",
    "print(\"Test score: \", grid_search.score(X_test.drop(columns=['song_id']), y_test['valence_mean']))\n",
    "\n"
   ]
  },
  {
   "cell_type": "code",
   "execution_count": 7,
   "metadata": {},
   "outputs": [
    {
     "name": "stdout",
     "output_type": "stream",
     "text": [
      "For valence_mean:\n",
      "Train MSE:  0.24406787141122574\n",
      "Train R2:  0.8238354049455329\n",
      "Test MSE:  0.7829182381666908\n",
      "Test R2:  0.4158980441312604\n"
     ]
    }
   ],
   "source": [
    "reg = GradientBoostingRegressor(n_estimators=250, \n",
    "                                learning_rate=0.025, \n",
    "                                max_depth=4, \n",
    "                                random_state=42, \n",
    "                                loss='squared_error')\n",
    "# should exclude 'song_id' from X_train\n",
    "reg.fit(X_train.drop(columns=['song_id']), y_train['valence_mean'])\n",
    "\n",
    "# on training data\n",
    "y_train_pred = reg.predict(X_train.drop(columns=['song_id']))\n",
    "\n",
    "# on test data\n",
    "y_test_pred = reg.predict(X_test.drop(columns=['song_id']))\n",
    "\n",
    "# evaluate the model\n",
    "from sklearn.metrics import mean_squared_error, r2_score\n",
    "\n",
    "print(\"For valence_mean:\")\n",
    "print(\"Train MSE: \", mean_squared_error(y_train['valence_mean'], y_train_pred))\n",
    "print(\"Train R2: \", r2_score(y_train['valence_mean'], y_train_pred))\n",
    "print(\"Test MSE: \", mean_squared_error(y_test['valence_mean'], y_test_pred))\n",
    "print(\"Test R2: \", r2_score(y_test['valence_mean'], y_test_pred))"
   ]
  },
  {
   "cell_type": "code",
   "execution_count": 8,
   "metadata": {},
   "outputs": [
    {
     "name": "stdout",
     "output_type": "stream",
     "text": [
      "For arousal_mean:\n",
      "Best parameters:  {'learning_rate': 0.05, 'max_depth': 3, 'n_estimators': 250}\n",
      "Best score:  0.5455531049396795\n",
      "Test score:  0.5081560082633758\n"
     ]
    }
   ],
   "source": [
    "# grid search for hyperparameters\n",
    "\n",
    "param_grid = {\n",
    "    'n_estimators': [100, 150, 200, 250],\n",
    "    'learning_rate': [0.01, 0.025, 0.05, 0.1],\n",
    "    'max_depth': [2, 3, 4, 5]\n",
    "}\n",
    "\n",
    "grid_search = GridSearchCV(GradientBoostingRegressor(random_state=42), param_grid, cv=5, n_jobs=-1)\n",
    "grid_search.fit(X_train.drop(columns=['song_id']), y_train['arousal_mean'])\n",
    "\n",
    "print(\"For arousal_mean:\")\n",
    "print(\"Best parameters: \", grid_search.best_params_)\n",
    "print(\"Best score: \", grid_search.best_score_)\n",
    "print(\"Test score: \", grid_search.score(X_test.drop(columns=['song_id']), y_test['arousal_mean']))\n",
    "\n"
   ]
  },
  {
   "cell_type": "code",
   "execution_count": 12,
   "metadata": {},
   "outputs": [
    {
     "name": "stdout",
     "output_type": "stream",
     "text": [
      "For arousal_mean:\n",
      "Train MSE:  0.27833335054161806\n",
      "Train R2:  0.8346032317145231\n",
      "Test MSE:  0.7272665108341547\n",
      "Test R2:  0.5081560082633758\n"
     ]
    }
   ],
   "source": [
    "reg = GradientBoostingRegressor(n_estimators=250, \n",
    "                                learning_rate=0.05, \n",
    "                                max_depth=3, \n",
    "                                random_state=42, \n",
    "                                loss='squared_error')\n",
    "# should exclude 'song_id' from X_train\n",
    "reg.fit(X_train.drop(columns=['song_id']), y_train['arousal_mean'])\n",
    "\n",
    "# on training data\n",
    "y_train_pred = reg.predict(X_train.drop(columns=['song_id']))\n",
    "\n",
    "# on test data\n",
    "y_test_pred = reg.predict(X_test.drop(columns=['song_id']))\n",
    "\n",
    "# evaluate the model\n",
    "from sklearn.metrics import mean_squared_error, r2_score\n",
    "\n",
    "print(\"For arousal_mean:\")\n",
    "print(\"Train MSE: \", mean_squared_error(y_train['arousal_mean'], y_train_pred))\n",
    "print(\"Train R2: \", r2_score(y_train['arousal_mean'], y_train_pred))\n",
    "print(\"Test MSE: \", mean_squared_error(y_test['arousal_mean'], y_test_pred))\n",
    "print(\"Test R2: \", r2_score(y_test['arousal_mean'], y_test_pred))"
   ]
  },
  {
   "cell_type": "markdown",
   "metadata": {},
   "source": [
    "## XGBoost"
   ]
  },
  {
   "cell_type": "code",
   "execution_count": 13,
   "metadata": {},
   "outputs": [
    {
     "name": "stdout",
     "output_type": "stream",
     "text": [
      "For valence_mean:\n",
      "Best parameters:  {'alpha': 10, 'colsample_bytree': 0.5, 'learning_rate': 0.05, 'max_depth': 4, 'n_estimators': 200}\n",
      "Best score:  0.4728905382588441\n",
      "Test score:  0.4249835972939987\n"
     ]
    }
   ],
   "source": [
    "# grid search xgboost\n",
    "import xgboost as xgb\n",
    "\n",
    "param_grid_xg = {\n",
    "    'n_estimators': [100, 150, 200, 250],\n",
    "    'learning_rate': [0.025, 0.05, 0.1, 0.2],\n",
    "    'max_depth': [2, 3, 4, 5],\n",
    "    'colsample_bytree': [0.3, 0.5, 0.7],\n",
    "    'alpha': [10, 15, 20]\n",
    "}\n",
    "\n",
    "grid_search_xg = GridSearchCV(xgb.XGBRegressor(objective ='reg:squarederror'), param_grid_xg, cv=5, n_jobs=-1)\n",
    "grid_search_xg.fit(X_train.drop(columns=['song_id']), y_train['valence_mean'])\n",
    "\n",
    "print(\"For valence_mean:\")\n",
    "print(\"Best parameters: \", grid_search_xg.best_params_)\n",
    "print(\"Best score: \", grid_search_xg.best_score_)\n",
    "print(\"Test score: \", grid_search_xg.score(X_test.drop(columns=['song_id']), y_test['valence_mean']))"
   ]
  },
  {
   "cell_type": "code",
   "execution_count": 14,
   "metadata": {},
   "outputs": [
    {
     "name": "stdout",
     "output_type": "stream",
     "text": [
      "For valence_mean:\n",
      "Train MSE:  0.28787214844069386\n",
      "Train R2:  0.7922181229168462\n",
      "Test MSE:  0.7707401497294396\n",
      "Test R2:  0.4249835972939987\n"
     ]
    }
   ],
   "source": [
    "\n",
    "xg_reg = xgb.XGBRegressor(objective ='reg:squarederror',\n",
    "                            colsample_bytree = 0.5,\n",
    "                            learning_rate = 0.05,\n",
    "                            max_depth = 4,\n",
    "                            alpha = 10,\n",
    "                            n_estimators = 200)\n",
    "\n",
    "xg_reg.fit(X_train.drop(columns=['song_id']), y_train['valence_mean'])\n",
    "\n",
    "y_train_pred_xg = xg_reg.predict(X_train.drop(columns=['song_id']))\n",
    "y_test_pred_xg = xg_reg.predict(X_test.drop(columns=['song_id']))\n",
    "\n",
    "print(\"For valence_mean:\")\n",
    "print(\"Train MSE: \", mean_squared_error(y_train['valence_mean'], y_train_pred_xg))\n",
    "print(\"Train R2: \", r2_score(y_train['valence_mean'], y_train_pred_xg))\n",
    "print(\"Test MSE: \", mean_squared_error(y_test['valence_mean'], y_test_pred_xg))\n",
    "print(\"Test R2: \", r2_score(y_test['valence_mean'], y_test_pred_xg))"
   ]
  },
  {
   "cell_type": "code",
   "execution_count": 15,
   "metadata": {},
   "outputs": [
    {
     "name": "stderr",
     "output_type": "stream",
     "text": [
      "/home/user/miniforge3/envs/musinf/lib/python3.12/site-packages/numpy/ma/core.py:2846: RuntimeWarning: invalid value encountered in cast\n",
      "  _data = np.array(data, dtype=dtype, copy=copy,\n"
     ]
    },
    {
     "name": "stdout",
     "output_type": "stream",
     "text": [
      "For arousal_mean:\n",
      "Best parameters:  {'alpha': 10, 'colsample_bytree': 0.7, 'learning_rate': 0.05, 'max_depth': 4, 'n_estimators': 250}\n",
      "Best score:  0.5409571850553898\n",
      "Test score:  0.5706059664485442\n"
     ]
    }
   ],
   "source": [
    "param_grid_xg = {\n",
    "    'n_estimators': [100, 150, 200, 250],\n",
    "    'learning_rate': [0.025, 0.05, 0.1, 0.2],\n",
    "    'max_depth': [2, 3, 4, 5],\n",
    "    'colsample_bytree': [0.3, 0.5, 0.7],\n",
    "    'alpha': [10, 15, 20]\n",
    "}\n",
    "\n",
    "grid_search_xg = GridSearchCV(xgb.XGBRegressor(objective ='reg:squarederror'), param_grid_xg, cv=5, n_jobs=-1)\n",
    "grid_search_xg.fit(X_train.drop(columns=['song_id']), y_train['arousal_mean'])\n",
    "\n",
    "print(\"For arousal_mean:\")\n",
    "print(\"Best parameters: \", grid_search_xg.best_params_)\n",
    "print(\"Best score: \", grid_search_xg.best_score_)\n",
    "print(\"Test score: \", grid_search_xg.score(X_test.drop(columns=['song_id']), y_test['arousal_mean']))"
   ]
  },
  {
   "cell_type": "code",
   "execution_count": 17,
   "metadata": {},
   "outputs": [
    {
     "name": "stdout",
     "output_type": "stream",
     "text": [
      "For arousal_mean:\n",
      "Train MSE:  0.22439170333025227\n",
      "Train R2:  0.8666575080252635\n",
      "Test MSE:  0.6349247033624333\n",
      "Test R2:  0.5706059664485442\n"
     ]
    }
   ],
   "source": [
    "\n",
    "xg_reg = xgb.XGBRegressor(objective ='reg:squarederror',\n",
    "                            colsample_bytree = 0.7,\n",
    "                            learning_rate = 0.05,\n",
    "                            max_depth = 4,\n",
    "                            alpha = 10,\n",
    "                            n_estimators = 250)\n",
    "\n",
    "xg_reg.fit(X_train.drop(columns=['song_id']), y_train['arousal_mean'])\n",
    "\n",
    "y_train_pred_xg = xg_reg.predict(X_train.drop(columns=['song_id']))\n",
    "y_test_pred_xg = xg_reg.predict(X_test.drop(columns=['song_id']))\n",
    "\n",
    "print(\"For arousal_mean:\")\n",
    "print(\"Train MSE: \", mean_squared_error(y_train['arousal_mean'], y_train_pred_xg))\n",
    "print(\"Train R2: \", r2_score(y_train['arousal_mean'], y_train_pred_xg))\n",
    "print(\"Test MSE: \", mean_squared_error(y_test['arousal_mean'], y_test_pred_xg))\n",
    "print(\"Test R2: \", r2_score(y_test['arousal_mean'], y_test_pred_xg))"
   ]
  },
  {
   "cell_type": "code",
   "execution_count": null,
   "metadata": {},
   "outputs": [],
   "source": []
  }
 ],
 "metadata": {
  "kernelspec": {
   "display_name": "musinf",
   "language": "python",
   "name": "python3"
  },
  "language_info": {
   "codemirror_mode": {
    "name": "ipython",
    "version": 3
   },
   "file_extension": ".py",
   "mimetype": "text/x-python",
   "name": "python",
   "nbconvert_exporter": "python",
   "pygments_lexer": "ipython3",
   "version": "3.12.5"
  }
 },
 "nbformat": 4,
 "nbformat_minor": 2
}
